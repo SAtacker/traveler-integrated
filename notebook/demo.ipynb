{
 "cells": [
  {
   "cell_type": "code",
   "execution_count": 1,
   "metadata": {
    "scrolled": true
   },
   "outputs": [],
   "source": [
    "from phylanx import Phylanx"
   ]
  },
  {
   "cell_type": "code",
   "execution_count": 2,
   "metadata": {},
   "outputs": [],
   "source": [
    "@Phylanx(performance=\"x\")\n",
    "def fib(n):\n",
    "    if n < 2:\n",
    "        return n\n",
    "    else:\n",
    "        return fib(n-1)+fib(n-2)"
   ]
  },
  {
   "cell_type": "code",
   "execution_count": 3,
   "metadata": {},
   "outputs": [
    {
     "data": {
      "text/plain": [
       "55"
      ]
     },
     "execution_count": 3,
     "metadata": {},
     "output_type": "execute_result"
    }
   ],
   "source": [
    "fib(10)"
   ]
  },
  {
   "cell_type": "code",
   "execution_count": 4,
   "metadata": {},
   "outputs": [],
   "source": [
    "from visualizeInTraveler import visualizeInTraveler"
   ]
  },
  {
   "cell_type": "code",
   "execution_count": 5,
   "metadata": {
    "scrolled": false
   },
   "outputs": [
    {
     "data": {
      "text/html": [
       "\n",
       "    <div data-py-instance-id=\"0\" data-js-rendered-id=\"0\">\n",
       "        <script type=\"application/javascript\">\n",
       "            window.__currentContainer = document.querySelector('[data-py-instance-id=\"0\"][data-js-rendered-id=\"0\"]');\n",
       "        </script>\n",
       "        <style type=\"text/css\">\n",
       "  .uploadLogs {\n",
       "    display: flex;\n",
       "  }\n",
       "  .uploadLogs > * + * {\n",
       "    margin-left: 1em;\n",
       "  }\n",
       "  .uploadLogs > div {\n",
       "    height: 15em;\n",
       "    flex-grow: 1;\n",
       "    border: 1px solid #eee;\n",
       "    overflow: auto;\n",
       "  }\n",
       "  .uploadButton {\n",
       "    margin-top: 1em;\n",
       "  }\n",
       "</style>\n",
       "\n",
       "<span class=\"uploadButton\">Uploading performance data...</span>\n",
       "<a href=\"http://localhost:8000/static/interface.html\" target=\"_blank\">Show visualization</a>\n",
       "<details>\n",
       "  <summary>Details</summary>\n",
       "  <div class=\"uploadLogs\">\n",
       "    <div class=\"treeData\"></div>\n",
       "    <div class=\"dotData\"></div>\n",
       "    <div class=\"csvData\"></div>\n",
       "    <div class=\"pythonCode\"></div>\n",
       "  </div>\n",
       "</details>\n",
       "\n",
       "<script type=\"application/javascript\">\n",
       "  (function () {\n",
       "    let currentLogs = {};\n",
       "    window.__currentContainer.receiveObject = function (obj) {\n",
       "      Object.assign(currentLogs, obj);\n",
       "\n",
       "      // TODO: render...\n",
       "      console.log(currentLogs);\n",
       "    };\n",
       "    console.log('attached listener');\n",
       "  })();\n",
       "</script>\n",
       "\n",
       "        <script type=\"application/javascript\">\n",
       "            window.__currentContainer.sendObject = function (obj) {\n",
       "                // TODO: figure out how to identify twoWayInstance\n",
       "                throw new Error('unimplemented');\n",
       "                IPython.notebook.kernel.execute(`twoWayInstance._receiveObject(${JSON.stringify(obj)})`);\n",
       "            };\n",
       "        </script>\n",
       "    </div>\n"
      ],
      "text/plain": [
       "<TwoWayWebView.TwoWayWebView object>"
      ]
     },
     "metadata": {},
     "output_type": "display_data"
    }
   ],
   "source": [
    "widget = visualizeInTraveler(fib)"
   ]
  },
  {
   "cell_type": "code",
   "execution_count": 6,
   "metadata": {},
   "outputs": [
    {
     "data": {
      "application/javascript": [
       "\n",
       "    const container = document.querySelector('[data-py-instance-id=\"0\"][data-js-rendered-id=\"0\"]');\n",
       "    console.log('firing finder', container, container.receiveObject);\n",
       "    if (container && container.receiveObject) {\n",
       "        container.receiveObject(JSON.parse({\"hi\": \"there\"}))\n",
       "    }\n"
      ],
      "text/plain": [
       "<IPython.core.display.Javascript object>"
      ]
     },
     "metadata": {},
     "output_type": "display_data"
    }
   ],
   "source": [
    "widget.sendObject({'hi':'there'})"
   ]
  },
  {
   "cell_type": "code",
   "execution_count": null,
   "metadata": {},
   "outputs": [],
   "source": []
  }
 ],
 "metadata": {
  "kernelspec": {
   "display_name": "Python 3",
   "language": "python",
   "name": "python3"
  },
  "language_info": {
   "codemirror_mode": {
    "name": "ipython",
    "version": 3
   },
   "file_extension": ".py",
   "mimetype": "text/x-python",
   "name": "python",
   "nbconvert_exporter": "python",
   "pygments_lexer": "ipython3",
   "version": "3.6.8"
  }
 },
 "nbformat": 4,
 "nbformat_minor": 2
}
