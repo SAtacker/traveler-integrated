{
 "cells": [
  {
   "cell_type": "code",
   "execution_count": 1,
   "metadata": {
    "scrolled": true
   },
   "outputs": [],
   "source": [
    "from phylanx import Phylanx"
   ]
  },
  {
   "cell_type": "code",
   "execution_count": 2,
   "metadata": {},
   "outputs": [],
   "source": [
    "@Phylanx(performance=\"x\")\n",
    "def fib(n):\n",
    "    if n < 2:\n",
    "        return n\n",
    "    else:\n",
    "        return fib(n-1)+fib(n-2)"
   ]
  },
  {
   "cell_type": "code",
   "execution_count": 3,
   "metadata": {},
   "outputs": [
    {
     "data": {
      "text/plain": [
       "55"
      ]
     },
     "execution_count": 3,
     "metadata": {},
     "output_type": "execute_result"
    }
   ],
   "source": [
    "fib(10)"
   ]
  },
  {
   "cell_type": "code",
   "execution_count": 4,
   "metadata": {},
   "outputs": [],
   "source": [
    "from visualizeInTraveler import visualizeInTraveler"
   ]
  },
  {
   "cell_type": "code",
   "execution_count": 5,
   "metadata": {
    "scrolled": true
   },
   "outputs": [
    {
     "data": {
      "text/html": [
       "\n",
       "    <div data-py-instance-id=\"0\" data-js-rendered-id=\"0\">\n",
       "        <script type=\"application/javascript\">\n",
       "            window.__currentContainer = document.querySelector('[data-py-instance-id=\"0\"][data-js-rendered-id=\"0\"]');\n",
       "        </script>\n",
       "        <style type=\"text/css\">\n",
       "  .showHandle summary::before {\n",
       "    content: '+';\n",
       "    display: inline-block;\n",
       "    width: 1.2em;\n",
       "    line-height: 1em;\n",
       "    border: 1px solid black;\n",
       "    text-align: center;\n",
       "    margin-right: 0.5em;\n",
       "  }\n",
       "  .showHandle[open] summary::before {\n",
       "    content: '-';\n",
       "  }\n",
       "  .uploadLog {\n",
       "    max-height: 15em;\n",
       "  }\n",
       "  .uploadButton {\n",
       "    margin-top: 1em;\n",
       "  }\n",
       "  .uploadOutputArea .output_area + .output_area {\n",
       "    display: none;\n",
       "  }\n",
       "</style>\n",
       "\n",
       "<span class=\"spinner\">\n",
       "  Uploading performance data...\n",
       "</span>\n",
       "<a class=\"visLink\" target=\"_blank\" style=\"display:none\">Show visualization</a>\n",
       "<details class=\"showHandle\">\n",
       "  <summary>Details</summary>\n",
       "  <pre class=\"uploadLog\"></pre>\n",
       "</details>\n",
       "\n",
       "<script type=\"application/javascript\">\n",
       "  (function () {\n",
       "    const currentContainer = window.__currentContainer;\n",
       "    // Jupyter adds some weird empty .output_area elements after this one, so\n",
       "    // this is an ugly patch to hide them\n",
       "    currentContainer.parentNode.parentNode.parentNode.className += ' uploadOutputArea';\n",
       "\n",
       "    let currentLog = '';\n",
       "    currentContainer.receiveObject = function (obj) {\n",
       "      if (obj.datasetLabel) {\n",
       "        currentContainer.querySelector('.visLink')\n",
       "          .setAttribute('href', 'http://localhost:8000/static/interface.html#' + window.encodeURIComponent(obj.datasetLabel))\n",
       "      } else if (obj.messageChunk) {\n",
       "        currentLog += obj.messageChunk + '\\n';\n",
       "        currentContainer.querySelector('.uploadLog').innerText = currentLog;\n",
       "      } else if (obj.done) {\n",
       "        currentContainer.querySelector('.spinner')\n",
       "          .setAttribute('style', 'display:none');\n",
       "        currentContainer.querySelector('.visLink')\n",
       "          .removeAttribute('style');\n",
       "      }\n",
       "    };\n",
       "  })();\n",
       "</script>\n",
       "\n",
       "        <script type=\"application/javascript\">\n",
       "            window.__currentContainer.sendObject = function (obj) {\n",
       "                // TODO: figure out how to identify twoWayInstance\n",
       "                throw new Error('unimplemented');\n",
       "                IPython.notebook.kernel.execute(`twoWayInstance._receiveObject(${JSON.stringify(obj)})`);\n",
       "            };\n",
       "        </script>\n",
       "    </div>\n"
      ],
      "text/plain": [
       "<TwoWayWebView.TwoWayWebView object>"
      ]
     },
     "metadata": {},
     "output_type": "display_data"
    },
    {
     "data": {
      "application/javascript": [
       "\n",
       "    const container = document.querySelector('[data-py-instance-id=\"0\"][data-js-rendered-id=\"0\"]');\n",
       "    if (container && container.receiveObject) {\n",
       "        container.receiveObject({\"datasetLabel\": \"Jupyter@2019-11-14T19:42:43.153273\"});\n",
       "    }\n"
      ],
      "text/plain": [
       "<IPython.core.display.Javascript object>"
      ]
     },
     "metadata": {},
     "output_type": "display_data"
    },
    {
     "data": {
      "application/javascript": [
       "\n",
       "    const container = document.querySelector('[data-py-instance-id=\"0\"][data-js-rendered-id=\"0\"]');\n",
       "    if (container && container.receiveObject) {\n",
       "        container.receiveObject({\"messageChunk\": \"Finished parsing newick tree\"});\n",
       "    }\n"
      ],
      "text/plain": [
       "<IPython.core.display.Javascript object>"
      ]
     },
     "metadata": {},
     "output_type": "display_data"
    },
    {
     "data": {
      "application/javascript": [
       "\n",
       "    const container = document.querySelector('[data-py-instance-id=\"0\"][data-js-rendered-id=\"0\"]');\n",
       "    if (container && container.receiveObject) {\n",
       "        container.receiveObject({\"messageChunk\": \"New primitives: 13, Observed existing primitives: 0\"});\n",
       "    }\n"
      ],
      "text/plain": [
       "<IPython.core.display.Javascript object>"
      ]
     },
     "metadata": {},
     "output_type": "display_data"
    },
    {
     "data": {
      "application/javascript": [
       "\n",
       "    const container = document.querySelector('[data-py-instance-id=\"0\"][data-js-rendered-id=\"0\"]');\n",
       "    if (container && container.receiveObject) {\n",
       "        container.receiveObject({\"messageChunk\": \"New links: 12, Observed existing links: 0\"});\n",
       "    }\n"
      ],
      "text/plain": [
       "<IPython.core.display.Javascript object>"
      ]
     },
     "metadata": {},
     "output_type": "display_data"
    },
    {
     "data": {
      "application/javascript": [
       "\n",
       "    const container = document.querySelector('[data-py-instance-id=\"0\"][data-js-rendered-id=\"0\"]');\n",
       "    if (container && container.receiveObject) {\n",
       "        container.receiveObject({\"messageChunk\": \"Finished parsing performance CSV\"});\n",
       "    }\n"
      ],
      "text/plain": [
       "<IPython.core.display.Javascript object>"
      ]
     },
     "metadata": {},
     "output_type": "display_data"
    },
    {
     "data": {
      "application/javascript": [
       "\n",
       "    const container = document.querySelector('[data-py-instance-id=\"0\"][data-js-rendered-id=\"0\"]');\n",
       "    if (container && container.receiveObject) {\n",
       "        container.receiveObject({\"messageChunk\": \"New primitives: 20, Observed existing primitives: 12\"});\n",
       "    }\n"
      ],
      "text/plain": [
       "<IPython.core.display.Javascript object>"
      ]
     },
     "metadata": {},
     "output_type": "display_data"
    },
    {
     "data": {
      "application/javascript": [
       "\n",
       "    const container = document.querySelector('[data-py-instance-id=\"0\"][data-js-rendered-id=\"0\"]');\n",
       "    if (container && container.receiveObject) {\n",
       "        container.receiveObject({\"messageChunk\": \"Max inclusive time seen in performance CSV (ns): 40135460600.000000\"});\n",
       "    }\n"
      ],
      "text/plain": [
       "<IPython.core.display.Javascript object>"
      ]
     },
     "metadata": {},
     "output_type": "display_data"
    },
    {
     "data": {
      "application/javascript": [
       "\n",
       "    const container = document.querySelector('[data-py-instance-id=\"0\"][data-js-rendered-id=\"0\"]');\n",
       "    if (container && container.receiveObject) {\n",
       "        container.receiveObject({\"messageChunk\": \"Finished parsing DOT graph\"});\n",
       "    }\n"
      ],
      "text/plain": [
       "<IPython.core.display.Javascript object>"
      ]
     },
     "metadata": {},
     "output_type": "display_data"
    },
    {
     "data": {
      "application/javascript": [
       "\n",
       "    const container = document.querySelector('[data-py-instance-id=\"0\"][data-js-rendered-id=\"0\"]');\n",
       "    if (container && container.receiveObject) {\n",
       "        container.receiveObject({\"messageChunk\": \"New primitives: 0, References to existing primitives: 0\"});\n",
       "    }\n"
      ],
      "text/plain": [
       "<IPython.core.display.Javascript object>"
      ]
     },
     "metadata": {},
     "output_type": "display_data"
    },
    {
     "data": {
      "application/javascript": [
       "\n",
       "    const container = document.querySelector('[data-py-instance-id=\"0\"][data-js-rendered-id=\"0\"]');\n",
       "    if (container && container.receiveObject) {\n",
       "        container.receiveObject({\"messageChunk\": \"New links: 0, Observed existing links: 0\"});\n",
       "    }\n"
      ],
      "text/plain": [
       "<IPython.core.display.Javascript object>"
      ]
     },
     "metadata": {},
     "output_type": "display_data"
    },
    {
     "data": {
      "application/javascript": [
       "\n",
       "    const container = document.querySelector('[data-py-instance-id=\"0\"][data-js-rendered-id=\"0\"]');\n",
       "    if (container && container.receiveObject) {\n",
       "        container.receiveObject({\"messageChunk\": \"Loaded physl code\"});\n",
       "    }\n"
      ],
      "text/plain": [
       "<IPython.core.display.Javascript object>"
      ]
     },
     "metadata": {},
     "output_type": "display_data"
    },
    {
     "data": {
      "application/javascript": [
       "\n",
       "    const container = document.querySelector('[data-py-instance-id=\"0\"][data-js-rendered-id=\"0\"]');\n",
       "    if (container && container.receiveObject) {\n",
       "        container.receiveObject({\"messageChunk\": \"Loaded python code\"});\n",
       "    }\n"
      ],
      "text/plain": [
       "<IPython.core.display.Javascript object>"
      ]
     },
     "metadata": {},
     "output_type": "display_data"
    },
    {
     "data": {
      "application/javascript": [
       "\n",
       "    const container = document.querySelector('[data-py-instance-id=\"0\"][data-js-rendered-id=\"0\"]');\n",
       "    if (container && container.receiveObject) {\n",
       "        container.receiveObject({\"messageChunk\": \"Saving Jupyter@2019-11-14T19:42:43.153273 shelf: meta\"});\n",
       "    }\n"
      ],
      "text/plain": [
       "<IPython.core.display.Javascript object>"
      ]
     },
     "metadata": {},
     "output_type": "display_data"
    },
    {
     "data": {
      "application/javascript": [
       "\n",
       "    const container = document.querySelector('[data-py-instance-id=\"0\"][data-js-rendered-id=\"0\"]');\n",
       "    if (container && container.receiveObject) {\n",
       "        container.receiveObject({\"messageChunk\": \"Saving Jupyter@2019-11-14T19:42:43.153273 shelf: primitives\"});\n",
       "    }\n"
      ],
      "text/plain": [
       "<IPython.core.display.Javascript object>"
      ]
     },
     "metadata": {},
     "output_type": "display_data"
    },
    {
     "data": {
      "application/javascript": [
       "\n",
       "    const container = document.querySelector('[data-py-instance-id=\"0\"][data-js-rendered-id=\"0\"]');\n",
       "    if (container && container.receiveObject) {\n",
       "        container.receiveObject({\"messageChunk\": \"Saving Jupyter@2019-11-14T19:42:43.153273 shelf: primitiveLinks\"});\n",
       "    }\n"
      ],
      "text/plain": [
       "<IPython.core.display.Javascript object>"
      ]
     },
     "metadata": {},
     "output_type": "display_data"
    },
    {
     "data": {
      "application/javascript": [
       "\n",
       "    const container = document.querySelector('[data-py-instance-id=\"0\"][data-js-rendered-id=\"0\"]');\n",
       "    if (container && container.receiveObject) {\n",
       "        container.receiveObject({\"messageChunk\": \"Saving Jupyter@2019-11-14T19:42:43.153273 pickle: trees\"});\n",
       "    }\n"
      ],
      "text/plain": [
       "<IPython.core.display.Javascript object>"
      ]
     },
     "metadata": {},
     "output_type": "display_data"
    },
    {
     "data": {
      "application/javascript": [
       "\n",
       "    const container = document.querySelector('[data-py-instance-id=\"0\"][data-js-rendered-id=\"0\"]');\n",
       "    if (container && container.receiveObject) {\n",
       "        container.receiveObject({\"messageChunk\": \"Saving Jupyter@2019-11-14T19:42:43.153273 pickle: physl\"});\n",
       "    }\n"
      ],
      "text/plain": [
       "<IPython.core.display.Javascript object>"
      ]
     },
     "metadata": {},
     "output_type": "display_data"
    },
    {
     "data": {
      "application/javascript": [
       "\n",
       "    const container = document.querySelector('[data-py-instance-id=\"0\"][data-js-rendered-id=\"0\"]');\n",
       "    if (container && container.receiveObject) {\n",
       "        container.receiveObject({\"messageChunk\": \"Saving Jupyter@2019-11-14T19:42:43.153273 pickle: python\"});\n",
       "    }\n"
      ],
      "text/plain": [
       "<IPython.core.display.Javascript object>"
      ]
     },
     "metadata": {},
     "output_type": "display_data"
    },
    {
     "data": {
      "application/javascript": [
       "\n",
       "    const container = document.querySelector('[data-py-instance-id=\"0\"][data-js-rendered-id=\"0\"]');\n",
       "    if (container && container.receiveObject) {\n",
       "        container.receiveObject({\"done\": true});\n",
       "    }\n"
      ],
      "text/plain": [
       "<IPython.core.display.Javascript object>"
      ]
     },
     "metadata": {},
     "output_type": "display_data"
    }
   ],
   "source": [
    "response = visualizeInTraveler(fib)"
   ]
  },
  {
   "cell_type": "code",
   "execution_count": null,
   "metadata": {},
   "outputs": [],
   "source": []
  },
  {
   "cell_type": "code",
   "execution_count": null,
   "metadata": {},
   "outputs": [],
   "source": []
  }
 ],
 "metadata": {
  "kernelspec": {
   "display_name": "Python 3",
   "language": "python",
   "name": "python3"
  },
  "language_info": {
   "codemirror_mode": {
    "name": "ipython",
    "version": 3
   },
   "file_extension": ".py",
   "mimetype": "text/x-python",
   "name": "python",
   "nbconvert_exporter": "python",
   "pygments_lexer": "ipython3",
   "version": "3.6.8"
  }
 },
 "nbformat": 4,
 "nbformat_minor": 2
}
