{
 "cells": [
  {
   "cell_type": "code",
   "execution_count": 1,
   "metadata": {
    "scrolled": true
   },
   "outputs": [],
   "source": [
    "from phylanx import Phylanx"
   ]
  },
  {
   "cell_type": "code",
   "execution_count": 2,
   "metadata": {},
   "outputs": [],
   "source": [
    "@Phylanx(performance=\"x\")\n",
    "def fib(n):\n",
    "    if n < 2:\n",
    "        return n\n",
    "    else:\n",
    "        return fib(n-1)+fib(n-2)"
   ]
  },
  {
   "cell_type": "code",
   "execution_count": 3,
   "metadata": {},
   "outputs": [
    {
     "data": {
      "text/plain": [
       "55"
      ]
     },
     "execution_count": 3,
     "metadata": {},
     "output_type": "execute_result"
    }
   ],
   "source": [
    "fib(10)"
   ]
  },
  {
   "cell_type": "code",
   "execution_count": 4,
   "metadata": {},
   "outputs": [],
   "source": [
    "from visualizeInTraveler import visualizeInTraveler"
   ]
  },
  {
   "cell_type": "code",
   "execution_count": 6,
   "metadata": {
    "scrolled": false
   },
   "outputs": [
    {
     "data": {
      "text/html": [
       "\n",
       "    <div data-two-way-id=\"1\">\n",
       "        <style type=\"text/css\">\n",
       "  .uploadLogs {\n",
       "    display: flex;\n",
       "  }\n",
       "  .uploadLogs > * + * {\n",
       "    margin-left: 1em;\n",
       "  }\n",
       "  .uploadLogs > div {\n",
       "    height: 15em;\n",
       "    flex-grow: 1;\n",
       "    border: 1px solid #eee;\n",
       "    overflow: auto;\n",
       "  }\n",
       "  .uploadButton {\n",
       "    margin-top: 1em;\n",
       "  }\n",
       "</style>\n",
       "\n",
       "<details>\n",
       "  <summary>Upload details</summary>\n",
       "  <div class=\"uploadLogs\">\n",
       "    <div class=\"treeData\"></div>\n",
       "    <div class=\"dotData\"></div>\n",
       "    <div class=\"csvData\"></div>\n",
       "    <div class=\"pythonCode\"></div>\n",
       "  </div>\n",
       "</details>\n",
       "<button class=\"uploadButton\" disabled>Uploading performance data...</button>\n",
       "\n",
       "<script type=\"application/javascript\">\n",
       "  (function () {\n",
       "    const container = document.currentScript.parentNode;\n",
       "    let currentLogs = {};\n",
       "    container.recieveObject = function (obj) {\n",
       "      Object.assign(currentLogs, obj);\n",
       "\n",
       "      // TODO: render...\n",
       "      console.log(currentLogs);\n",
       "    };\n",
       "  })();\n",
       "</script>\n",
       "\n",
       "        <script type=\"application/javascript\">\n",
       "            document.currentScript.parentNode.sendObject = function (obj) {\n",
       "                // TODO: figure out how to identify twoWayInstance\n",
       "                throw new Error('unimplemented');\n",
       "                IPython.notebook.kernel.execute(`twoWayInstance._recieveObject(${JSON.stringify(obj)})`);\n",
       "            };\n",
       "            document.__TwoWayLinks = document.__TwoWayLinks || [];\n",
       "            document.__TwoWayLinks.push(function (jsonString) {\n",
       "                if (document.currentScript &&\n",
       "                    document.currentScript.parentNode\n",
       "                    document.currentScript.parentNode.recieveObject) {\n",
       "                    document.currentScript.parentNode.recieveObject(JSON.parse(jsonString));\n",
       "                }\n",
       "            });\n",
       "        </script>\n",
       "    </div>\n"
      ],
      "text/plain": [
       "<TwoWayWebView.TwoWayWebView object>"
      ]
     },
     "metadata": {},
     "output_type": "display_data"
    }
   ],
   "source": [
    "visualizeInTraveler(fib)"
   ]
  },
  {
   "cell_type": "code",
   "execution_count": null,
   "metadata": {},
   "outputs": [],
   "source": []
  }
 ],
 "metadata": {
  "kernelspec": {
   "display_name": "Python 3",
   "language": "python",
   "name": "python3"
  },
  "language_info": {
   "codemirror_mode": {
    "name": "ipython",
    "version": 3
   },
   "file_extension": ".py",
   "mimetype": "text/x-python",
   "name": "python",
   "nbconvert_exporter": "python",
   "pygments_lexer": "ipython3",
   "version": "3.6.8"
  }
 },
 "nbformat": 4,
 "nbformat_minor": 2
}
